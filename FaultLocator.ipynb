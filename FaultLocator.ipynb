{
 "cells": [
  {
   "cell_type": "code",
   "execution_count": 1,
   "metadata": {
    "scrolled": true
   },
   "outputs": [],
   "source": [
    "import numpy as np\n",
    "import tensorflow as tf\n",
    "import csv\n",
    "import h5py\n",
    "import matplotlib.pyplot as plt\n",
    "from tensorflow.python.framework import ops"
   ]
  },
  {
   "cell_type": "code",
   "execution_count": 2,
   "metadata": {
    "scrolled": true
   },
   "outputs": [],
   "source": [
    "def load_data():\n",
    "    \n",
    "    ### import training data from csv files\n",
    "    main_file=\"labels.csv\"\n",
    "    main_label=np.loadtxt(main_file, delimiter=\",\")\n",
    "    main_label=main_label.reshape((main_label.shape[0],1))\n",
    "    m=main_label.shape[0]\n",
    "    \n",
    "    # changing the labels to digits starting from 0\n",
    "    labels=np.zeros((m,1), dtype=\"int\")\n",
    "    num_class=int(0)\n",
    "    current_bus=main_label[0]\n",
    "    bus_reference={str(num_class): current_bus} # dictionary containing original labels\n",
    "\n",
    "    for i in range(m):\n",
    "        if main_label[i]!=current_bus:\n",
    "            num_class+=int(1)\n",
    "            current_bus=main_label[i]\n",
    "            bus_reference[str(num_class)]=current_bus\n",
    "    \n",
    "        labels[i]=num_class\n",
    "    labels=labels.astype(int)\n",
    "    \n",
    "    main_file=\"features.csv\"\n",
    "    main_features=np.loadtxt(main_file, delimiter=\",\")\n",
    "    \n",
    "    DATA={'labels': labels,\n",
    "          'main_features': main_features}\n",
    "    num_class+=1\n",
    "    \n",
    "    return DATA, bus_reference, num_class"
   ]
  },
  {
   "cell_type": "code",
   "execution_count": 3,
   "metadata": {
    "scrolled": true
   },
   "outputs": [],
   "source": [
    "def select_features(selected_buses, DATA):\n",
    "    \n",
    "    # U can select what features to use for training\n",
    "    main_features=DATA['main_features']\n",
    "    m=len(selected_buses)\n",
    "    n=DATA['main_features'].shape[0]\n",
    "    features=main_features[:,selected_buses]\n",
    "    \n",
    "    return features"
   ]
  },
  {
   "cell_type": "code",
   "execution_count": 4,
   "metadata": {
    "scrolled": true
   },
   "outputs": [],
   "source": [
    "def make_onehot(DATA, num_class):\n",
    "    \n",
    "    #Convert labels to onehot\n",
    "    one_hot=np.zeros((DATA['labels'].shape[0], num_class))\n",
    "    for i,j in enumerate(DATA['labels']):\n",
    "        one_hot[i,j]=1\n",
    "        \n",
    "    return one_hot"
   ]
  },
  {
   "cell_type": "code",
   "execution_count": 5,
   "metadata": {
    "scrolled": true
   },
   "outputs": [],
   "source": [
    "def split_dataset(features, labels, test_percentage):\n",
    "    \n",
    "    #Split data to training/test sets\n",
    "    indices=np.random.permutation(features.shape[0])\n",
    "    num_test=int(features.shape[0]*test_percentage)\n",
    "    test_index, train_index=indices[:num_test], indices[num_test:]\n",
    "    \n",
    "    test_features, train_features=features[test_index,:], features[train_index,:]\n",
    "    test_labels, train_labels=labels[test_index,:], labels[train_index,:]\n",
    "    \n",
    "    dataset={'train_labels':   train_labels.T,\n",
    "             'train_features': train_features.T,\n",
    "             'test_labels':    test_labels.T,\n",
    "             'test_features':  test_features.T}\n",
    "    \n",
    "    return dataset"
   ]
  },
  {
   "cell_type": "code",
   "execution_count": 6,
   "metadata": {
    "scrolled": true
   },
   "outputs": [],
   "source": [
    "def initialize_weights(num_feature, num_class):\n",
    "    \n",
    "    \"\"\"\n",
    "    Initialize weights:\n",
    "    num_layer=3\n",
    "    layer1,   layer2,   layer3=num_class\n",
    "                        W1 : [layer1, num_feature],   b1 : [layer1, 1]\n",
    "                        W2 : [layer2, layer1],        b2 : [layer2, 1]\n",
    "                        W3 : [num_class, layer2],     b3 : [num_class, 1]\n",
    "                        \n",
    "    weight is a dictionary that contains all weigth/bias matrices\n",
    "    \"\"\"\n",
    "    layer1=40\n",
    "    layer2=20         \n",
    "        \n",
    "    W1 = tf.get_variable(\"W1\", [layer1,num_feature], initializer = tf.contrib.layers.xavier_initializer())\n",
    "    b1 = tf.get_variable(\"b1\", [layer1,1], initializer = tf.zeros_initializer())\n",
    "    W2 = tf.get_variable(\"W2\", [layer2,layer1], initializer = tf.contrib.layers.xavier_initializer())\n",
    "    b2 = tf.get_variable(\"b2\", [layer2,1], initializer = tf.zeros_initializer())\n",
    "    W3 = tf.get_variable(\"W3\", [num_class,layer2], initializer = tf.contrib.layers.xavier_initializer())\n",
    "    b3 = tf.get_variable(\"b3\", [num_class,1], initializer = tf.zeros_initializer())\n",
    "\n",
    "    weights = {\"W1\": W1,\n",
    "               \"b1\": b1,\n",
    "               \"W2\": W2,\n",
    "               \"b2\": b2,\n",
    "               \"W3\": W3,\n",
    "               \"b3\": b3}\n",
    "    \n",
    "    return weights"
   ]
  },
  {
   "cell_type": "code",
   "execution_count": 7,
   "metadata": {
    "scrolled": true
   },
   "outputs": [],
   "source": [
    "def forward_propagation(X, weights):\n",
    "    \n",
    "    #Three layer neural network: LINEAR->RELU->LINEAR->RELU->LINEAR->SOFTMAX\n",
    "    W1 = weights['W1']\n",
    "    b1 = weights['b1']\n",
    "    W2 = weights['W2']\n",
    "    b2 = weights['b2']\n",
    "    W3 = weights['W3']\n",
    "    b3 = weights['b3']\n",
    "            \n",
    "    L1 = tf.add(tf.matmul(W1,X), b1)                               \n",
    "    A1 = tf.nn.relu(L1)                                             \n",
    "    L2 = tf.add(tf.matmul(W2,A1), b2)                               \n",
    "    A2 = tf.nn.relu(L2)                                              \n",
    "    Lf = tf.add(tf.matmul(W3,A2), b3)  \n",
    "    \n",
    "    return Lf"
   ]
  },
  {
   "cell_type": "code",
   "execution_count": 8,
   "metadata": {
    "scrolled": true
   },
   "outputs": [],
   "source": [
    "def compute_cost(Lf, Y):\n",
    "\n",
    "    logits = tf.transpose(Lf)\n",
    "    labels = tf.transpose(Y)\n",
    "    \n",
    "    cost = tf.reduce_mean(tf.nn.softmax_cross_entropy_with_logits_v2(logits = logits, labels = labels))\n",
    "    \n",
    "    return cost"
   ]
  },
  {
   "cell_type": "code",
   "execution_count": 9,
   "metadata": {
    "scrolled": true
   },
   "outputs": [],
   "source": [
    "def model(dataset, num_feature, num_class, learning_rate, num_epochs):\n",
    "   \n",
    "    X_train=dataset['train_features']\n",
    "    Y_train=dataset['train_labels']\n",
    "    X_test=dataset['test_features']\n",
    "    Y_test=dataset['test_labels']\n",
    "    \n",
    "    ops.reset_default_graph()                         \n",
    "    size_x_1 = X_train.shape[0]                          \n",
    "    size_y_1 = Y_train.shape[0]                   \n",
    "    costs = []                                        \n",
    "    \n",
    "    # Create Placeholders for X and Y\n",
    "    X = tf.placeholder(tf.float32, [size_x_1, None])\n",
    "    Y = tf.placeholder(tf.float32, [size_y_1, None])\n",
    "    \n",
    "    # Initialize parameters\n",
    "    weights = initialize_weights(num_feature, num_class)\n",
    "    \n",
    "    # Forward propagation: \n",
    "    Lf = forward_propagation(X, weights)\n",
    "    \n",
    "    # Cost function: \n",
    "    cost = compute_cost(Lf, Y)\n",
    "    \n",
    "    # Backpropagation: Use either adam or gradient decent for updating weights\n",
    "    optimizer = tf.train.AdamOptimizer(learning_rate = learning_rate).minimize(cost)\n",
    "    #optimizer = tf.train.GradientDescentOptimizer(learning_rate = learning_rate).minimize(cost)\n",
    "    \n",
    "    init = tf.global_variables_initializer()\n",
    "\n",
    "    with tf.Session() as sess:\n",
    "        \n",
    "        sess.run(init)\n",
    "        \n",
    "        for epoch in range(num_epochs):\n",
    "            epoch_cost = 0.0                      \n",
    "            _ , epoch_cost = sess.run([optimizer, cost], feed_dict={X: X_train, Y: Y_train})\n",
    "            \n",
    "            if epoch % 1000 == 0:\n",
    "                print (\"Cost after epoch %i: %f\" % (epoch, epoch_cost))\n",
    "                costs.append(epoch_cost)               \n",
    "                \n",
    "        # plot cost\n",
    "        plt.plot(np.squeeze(costs))\n",
    "        plt.ylabel('cost')\n",
    "        plt.xlabel('iterations * 1000')\n",
    "        plt.show()\n",
    "\n",
    "        weights = sess.run(weights)\n",
    "        print (\"Fault locator model is trained!\")\n",
    "\n",
    "        # Calculate the accuracy of the trained model\n",
    "        correct_prediction = tf.equal(tf.argmax(Lf), tf.argmax(Y))\n",
    "        accuracy = tf.reduce_mean(tf.cast(correct_prediction, \"float\"))\n",
    "\n",
    "        print (\"Train Accuracy:\", accuracy.eval({X: X_train, Y: Y_train}))\n",
    "        print (\"Test Accuracy:\", accuracy.eval({X: X_test, Y: Y_test}))\n",
    "        \n",
    "        # calculate and plot the confusion matrix\n",
    "        ConfMat=np.zeros((num_class, num_class))\n",
    "        pred=np.argmax(Lf.eval({X: X_test, Y: Y_test}), axis=0)\n",
    "        for i,j in zip(pred, np.argmax(Y_test, axis=0)):\n",
    "            ConfMat[j,i]+=1\n",
    "        print(ConfMat) \n",
    "        plt.matshow(ConfMat)\n",
    "        plt.colorbar()\n",
    "        \n",
    "        return weights"
   ]
  },
  {
   "cell_type": "code",
   "execution_count": 10,
   "metadata": {
    "scrolled": true
   },
   "outputs": [],
   "source": [
    "DATA, bus_reference, num_class=load_data()\n",
    "#print(DATA['labels'].shape)\n",
    "#print(DATA['main_features'].shape)"
   ]
  },
  {
   "cell_type": "code",
   "execution_count": 11,
   "metadata": {
    "scrolled": true
   },
   "outputs": [],
   "source": [
    "selected_buses=[1, 2, 3, 11, 27, 29, 50, 57, 74, 89]\n",
    "features=select_features(selected_buses, DATA)\n",
    "#print(features.shape)"
   ]
  },
  {
   "cell_type": "code",
   "execution_count": 12,
   "metadata": {
    "scrolled": true
   },
   "outputs": [],
   "source": [
    "labels=make_onehot(DATA, num_class)\n",
    "#print(labels.shape)"
   ]
  },
  {
   "cell_type": "code",
   "execution_count": 13,
   "metadata": {
    "scrolled": true
   },
   "outputs": [],
   "source": [
    "dataset=split_dataset(features, labels, 0.05)\n",
    "#print(dataset['train_features'].shape)\n",
    "#print(dataset['test_features'].shape)"
   ]
  },
  {
   "cell_type": "code",
   "execution_count": 14,
   "metadata": {
    "scrolled": true
   },
   "outputs": [
    {
     "name": "stderr",
     "output_type": "stream",
     "text": [
      "WARNING: Logging before flag parsing goes to stderr.\n",
      "W0824 16:52:47.542867 14360 lazy_loader.py:50] \n",
      "The TensorFlow contrib module will not be included in TensorFlow 2.0.\n",
      "For more information, please see:\n",
      "  * https://github.com/tensorflow/community/blob/master/rfcs/20180907-contrib-sunset.md\n",
      "  * https://github.com/tensorflow/addons\n",
      "  * https://github.com/tensorflow/io (for I/O related ops)\n",
      "If you depend on functionality not listed there, please file an issue.\n",
      "\n"
     ]
    },
    {
     "name": "stdout",
     "output_type": "stream",
     "text": [
      "Cost after epoch 0: 3.293858\n",
      "Cost after epoch 1000: 1.539088\n",
      "Cost after epoch 2000: 1.096882\n",
      "Cost after epoch 3000: 0.838951\n",
      "Cost after epoch 4000: 0.711658\n",
      "Cost after epoch 5000: 0.627730\n",
      "Cost after epoch 6000: 0.571213\n",
      "Cost after epoch 7000: 0.529680\n",
      "Cost after epoch 8000: 0.497979\n",
      "Cost after epoch 9000: 0.469640\n",
      "Cost after epoch 10000: 0.443815\n",
      "Cost after epoch 11000: 0.423205\n",
      "Cost after epoch 12000: 0.405764\n",
      "Cost after epoch 13000: 0.390004\n",
      "Cost after epoch 14000: 0.375364\n",
      "Cost after epoch 15000: 0.362260\n",
      "Cost after epoch 16000: 0.349467\n",
      "Cost after epoch 17000: 0.337654\n",
      "Cost after epoch 18000: 0.326593\n",
      "Cost after epoch 19000: 0.316146\n"
     ]
    },
    {
     "data": {
      "image/png": "[encoded data removed]",
      "text/plain": [
       "<Figure size 432x288 with 1 Axes>"
      ]
     },
     "metadata": {
      "needs_background": "light"
     },
     "output_type": "display_data"
    },
    {
     "name": "stdout",
     "output_type": "stream",
     "text": [
      "Model is trained!\n",
      "Train Accuracy: 0.9635627\n",
      "Test Accuracy: 0.95076925\n",
      "[[19.  0.  0.  0.  0.  0.  0.  0.  0.  0.  0.  0.  0.  0.  0.  0.  0.  0.\n",
      "   0.  0.  0.  0.  0.  0.  0.  0.]\n",
      " [ 0. 16.  8.  1.  0.  0.  0.  0.  0.  0.  0.  0.  0.  0.  0.  0.  0.  0.\n",
      "   0.  0.  0.  0.  0.  0.  0.  0.]\n",
      " [ 0.  0. 15.  5.  0.  0.  0.  0.  0.  0.  0.  0.  0.  0.  0.  0.  0.  0.\n",
      "   0.  0.  0.  0.  0.  0.  0.  0.]\n",
      " [ 0.  0.  0. 28.  0.  0.  0.  0.  0.  0.  0.  0.  0.  0.  0.  0.  0.  0.\n",
      "   0.  0.  0.  0.  0.  0.  0.  0.]\n",
      " [ 0.  0.  0.  0. 19.  0.  0.  0.  0.  0.  0.  0.  0.  0.  0.  0.  0.  0.\n",
      "   0.  0.  0.  0.  0.  0.  0.  0.]\n",
      " [ 0.  0.  0.  0.  0. 21.  0.  0.  0.  0.  0.  0.  0.  0.  0.  0.  0.  0.\n",
      "   0.  0.  0.  0.  0.  0.  0.  0.]\n",
      " [ 0.  0.  0.  0.  0.  1. 27.  0.  0.  0.  0.  0.  0.  0.  0.  0.  0.  0.\n",
      "   0.  0.  0.  0.  0.  0.  0.  0.]\n",
      " [ 0.  0.  0.  0.  0.  0.  0. 27.  0.  0.  0.  0.  0.  0.  0.  0.  0.  0.\n",
      "   0.  0.  0.  0.  0.  0.  0.  0.]\n",
      " [ 0.  0.  0.  0.  0.  0.  0.  0. 29.  0.  0.  0.  0.  0.  0.  0.  0.  0.\n",
      "   0.  0.  0.  0.  0.  0.  0.  0.]\n",
      " [ 0.  0.  0.  0.  0.  0.  0.  0.  0. 33.  0.  0.  0.  0.  0.  0.  0.  0.\n",
      "   0.  0.  0.  0.  0.  0.  0.  0.]\n",
      " [ 0.  0.  0.  0.  0.  0.  0.  0.  0.  0. 20.  0.  0.  0.  0.  0.  0.  0.\n",
      "   0.  0.  0.  0.  0.  0.  0.  0.]\n",
      " [ 0.  0.  0.  0.  0.  0.  0.  0.  0.  0.  0. 31.  0.  0.  0.  0.  0.  0.\n",
      "   0.  0.  0.  0.  0.  0.  0.  0.]\n",
      " [ 0.  0.  0.  0.  0.  0.  0.  0.  0.  0.  0.  0. 17.  0.  0.  0.  0.  0.\n",
      "   0.  0.  0.  0.  0.  0.  2.  0.]\n",
      " [ 0.  0.  0.  0.  0.  0.  0.  0.  0.  0.  0.  0.  0. 23.  0.  0.  0.  0.\n",
      "   0.  0.  0.  0.  0.  0.  0.  0.]\n",
      " [ 0.  0.  0.  0.  0.  0.  0.  0.  0.  0.  0.  0.  0.  0. 34.  0.  0.  0.\n",
      "   0.  0.  0.  0.  0.  0.  0.  0.]\n",
      " [ 0.  0.  0.  0.  0.  0.  0.  0.  0.  0.  0.  0.  0.  0.  0. 30.  0.  0.\n",
      "   0.  0.  0.  0.  0.  0.  0.  0.]\n",
      " [ 0.  0.  0.  0.  0.  0.  0.  0.  0.  0.  0.  0.  0.  0.  0.  0. 31.  0.\n",
      "   0.  0.  0.  0.  0.  0.  0.  0.]\n",
      " [ 0.  0.  0.  0.  0.  0.  0.  0.  0.  0.  0.  0.  0.  0.  0.  0.  0. 25.\n",
      "   0.  0.  0.  0.  0.  0.  0.  0.]\n",
      " [ 0.  0.  0.  0.  0.  0.  0.  0.  0.  0.  0.  0.  0.  0.  0.  0.  0.  4.\n",
      "  10.  0.  0.  0.  0.  0.  0.  0.]\n",
      " [ 0.  0.  0.  0.  0.  0.  0.  0.  0.  0.  0.  0.  0.  0.  0.  0.  0.  0.\n",
      "   0. 24.  0.  0.  0.  0.  0.  0.]\n",
      " [ 0.  0.  0.  0.  0.  0.  0.  0.  0.  0.  0.  0.  0.  0.  0.  0.  0.  0.\n",
      "   0.  0. 21.  0.  0.  0.  0.  0.]\n",
      " [ 0.  0.  0.  0.  0.  0.  0.  0.  0.  0.  0.  0.  0.  0.  0.  0.  0.  0.\n",
      "   0.  0.  0. 19.  0.  0.  0.  0.]\n",
      " [ 0.  0.  0.  0.  0.  0.  0.  0.  0.  0.  0.  0.  0.  0.  0.  0.  0.  0.\n",
      "   0.  0.  0. 11. 17.  0.  0.  0.]\n",
      " [ 0.  0.  0.  0.  0.  0.  0.  0.  0.  0.  0.  0.  0.  0.  0.  0.  0.  0.\n",
      "   0.  0.  0.  0.  0. 17.  0.  0.]\n",
      " [ 0.  0.  0.  0.  0.  0.  0.  0.  0.  0.  0.  0.  0.  0.  0.  0.  0.  0.\n",
      "   0.  0.  0.  0.  0.  0. 29.  0.]\n",
      " [ 0.  0.  0.  0.  0.  0.  0.  0.  0.  0.  0.  0.  0.  0.  0.  0.  0.  0.\n",
      "   0.  0.  0.  0.  0.  0.  0. 36.]]\n"
     ]
    },
    {
     "data": {
      "image/png": "[encoded data removed]",
      "text/plain": [
       "<Figure size 288x288 with 2 Axes>"
      ]
     },
     "metadata": {
      "needs_background": "light"
     },
     "output_type": "display_data"
    }
   ],
   "source": [
    "num_feature=len(selected_buses)\n",
    "weights=model(dataset, num_feature, num_class, 0.00025, 100000)"
   ]
  },
  {
   "cell_type": "code",
   "execution_count": null,
   "metadata": {
    "scrolled": true
   },
   "outputs": [],
   "source": []
  }
 ],
 "metadata": {
  "kernelspec": {
   "display_name": "Python 3",
   "language": "python",
   "name": "python3"
  },
  "language_info": {
   "codemirror_mode": {
    "name": "ipython",
    "version": 3
   },
   "file_extension": ".py",
   "mimetype": "text/x-python",
   "name": "python",
   "nbconvert_exporter": "python",
   "pygments_lexer": "ipython3",
   "version": "3.7.3"
  }
 },
 "nbformat": 4,
 "nbformat_minor": 2
}
