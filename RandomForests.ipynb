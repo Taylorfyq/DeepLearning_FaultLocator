{
 "cells": [
  {
   "cell_type": "code",
   "execution_count": 1,
   "metadata": {},
   "outputs": [],
   "source": [
    "import numpy as np\n",
    "import matplotlib.pyplot as plt\n",
    "from sklearn.ensemble import RandomForestClassifier\n",
    "%matplotlib inline"
   ]
  },
  {
   "cell_type": "code",
   "execution_count": 2,
   "metadata": {},
   "outputs": [],
   "source": [
    "def load_data():\n",
    "    \n",
    "    ### import training data from csv files\n",
    "    main_file = \"labels.csv\"\n",
    "    main_label = np.loadtxt(main_file, delimiter = \",\")\n",
    "    main_label = main_label.reshape((main_label.shape[0],1))\n",
    "    m = main_label.shape[0]\n",
    "    \n",
    "    # changing the labels to digits starting from 0\n",
    "    labels = np.zeros((m,1), dtype = \"int\")\n",
    "    num_class = int(0)\n",
    "    current_bus = main_label[0]\n",
    "    bus_reference = {str(num_class): current_bus} # dictionary containing original labels\n",
    "\n",
    "    for i in range(m):\n",
    "        if main_label[i] != current_bus:\n",
    "            num_class += int(1)\n",
    "            current_bus = main_label[i]\n",
    "            bus_reference[str(num_class)] = current_bus\n",
    "    \n",
    "        labels[i] = num_class\n",
    "    labels = labels.astype(int)\n",
    "    \n",
    "    main_file = \"features.csv\"\n",
    "    main_features = np.loadtxt(main_file, delimiter=\",\")\n",
    "    \n",
    "    DATA = {'labels': labels,\n",
    "            'main_features': main_features}\n",
    "    num_class+=1\n",
    "    \n",
    "    return DATA, bus_reference, num_class"
   ]
  },
  {
   "cell_type": "code",
   "execution_count": 3,
   "metadata": {},
   "outputs": [],
   "source": [
    "def select_features(selected_buses, DATA):\n",
    "    \n",
    "    # U can select what features to use for training\n",
    "    main_features = DATA['main_features']\n",
    "    m = len(selected_buses)\n",
    "    n = DATA['main_features'].shape[0]\n",
    "    features = main_features[:,selected_buses]\n",
    "    \n",
    "    return features"
   ]
  },
  {
   "cell_type": "code",
   "execution_count": 4,
   "metadata": {},
   "outputs": [],
   "source": [
    "def split_dataset(features, labels, test_percentage):\n",
    "    \n",
    "    #Split data to training/crossval/test sets\n",
    "    indices = np.random.permutation(features.shape[0])\n",
    "    num_test = int(features.shape[0]*test_percentage)\n",
    "    num_test2 = num_test // 2\n",
    "    crossval_index, test_index, train_index = indices[:num_test2], indices[num_test2:num_test], indices[num_test:]\n",
    "    \n",
    "    crossval_features, test_features, train_features = features[crossval_index,:], features[test_index,:], features[train_index,:]\n",
    "    crossval_labels, test_labels, train_labels = labels[crossval_index,:], labels[test_index,:], labels[train_index,:]\n",
    "    \n",
    "    dataset={'train_labels':       train_labels.reshape(train_labels.shape[0],),\n",
    "             'train_features':     train_features,\n",
    "             'test_labels':        test_labels.reshape(test_labels.shape[0],),\n",
    "             'test_features':      test_features,\n",
    "             'crossval_labels':    crossval_labels.reshape(crossval_labels.shape[0],),\n",
    "             'crossval_features':  crossval_features}\n",
    "    \n",
    "    return dataset"
   ]
  },
  {
   "cell_type": "code",
   "execution_count": 5,
   "metadata": {},
   "outputs": [],
   "source": [
    "DATA, bus_reference, num_class = load_data()\n",
    "\n",
    "selected_buses = [1, 2, 3, 11, 27, 29, 50, 57, 74, 89]\n",
    "features = select_features(selected_buses, DATA)\n",
    "\n",
    "labels = DATA['labels']\n",
    "\n",
    "dataset = split_dataset(features, labels, 0.2)\n",
    "\n",
    "train_labels      = dataset['train_labels']\n",
    "train_features    = dataset['train_features']\n",
    "test_labels       = dataset['test_labels']\n",
    "test_features     = dataset['test_features']\n",
    "crossval_labels   = dataset['crossval_labels']\n",
    "crossval_features = dataset['crossval_features']"
   ]
  },
  {
   "cell_type": "code",
   "execution_count": 6,
   "metadata": {},
   "outputs": [
    {
     "name": "stdout",
     "output_type": "stream",
     "text": [
      "best acc: 1.000000, n_estimators: 35, max_depth: 19\n"
     ]
    }
   ],
   "source": [
    "# hyperparameter optimization using crossval set\n",
    "\n",
    "arr1 = range(10,100,5); arr2 = range(5,20)\n",
    "n_est_best = 0; n_depth_best = 0; max_acc = 0\n",
    "\n",
    "for i in arr1:\n",
    "    for j in arr2:\n",
    "        model = RandomForestClassifier(n_estimators=i, max_depth=j, random_state=0).fit(crossval_features, crossval_labels)\n",
    "        acc = model.score(crossval_features, crossval_labels)\n",
    "        if acc>max_acc:\n",
    "            max_acc = acc; n_est_best = i; n_depth_best = j\n",
    "            \n",
    "print(\"best acc: %f, n_estimators: %i, max_depth: %i\" %(max_acc, n_est_best, n_depth_best))"
   ]
  },
  {
   "cell_type": "code",
   "execution_count": 7,
   "metadata": {},
   "outputs": [
    {
     "name": "stdout",
     "output_type": "stream",
     "text": [
      "training accuracy: 0.995096\n",
      "test accuracy: 0.998462\n"
     ]
    }
   ],
   "source": [
    "# training and testing the model\n",
    "\n",
    "model = RandomForestClassifier(n_estimators=n_est_best, max_depth=n_depth_best, random_state=0).fit(train_features, train_labels)\n",
    "acc = model.score(train_features, train_labels)\n",
    "print(\"training accuracy: %f\" %acc)\n",
    "\n",
    "model = RandomForestClassifier(n_estimators=n_est_best, max_depth=n_depth_best, random_state=0).fit(test_features, test_labels)\n",
    "acc = model.score(test_features, test_labels)\n",
    "print(\"test accuracy: %f\" %acc)"
   ]
  },
  {
   "cell_type": "code",
   "execution_count": null,
   "metadata": {},
   "outputs": [],
   "source": []
  }
 ],
 "metadata": {
  "kernelspec": {
   "display_name": "Python 3",
   "language": "python",
   "name": "python3"
  },
  "language_info": {
   "codemirror_mode": {
    "name": "ipython",
    "version": 3
   },
   "file_extension": ".py",
   "mimetype": "text/x-python",
   "name": "python",
   "nbconvert_exporter": "python",
   "pygments_lexer": "ipython3",
   "version": "3.7.3"
  }
 },
 "nbformat": 4,
 "nbformat_minor": 2
}
