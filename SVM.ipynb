{
 "cells": [
  {
   "cell_type": "code",
   "execution_count": 93,
   "metadata": {},
   "outputs": [],
   "source": [
    "import numpy as np\n",
    "import matplotlib.pyplot as plt\n",
    "from sklearn.svm import SVC\n",
    "%matplotlib inline"
   ]
  },
  {
   "cell_type": "code",
   "execution_count": 94,
   "metadata": {},
   "outputs": [],
   "source": [
    "def load_data():\n",
    "    \n",
    "    ### import training data from csv files\n",
    "    main_file = \"labels.csv\"\n",
    "    main_label = np.loadtxt(main_file, delimiter = \",\")\n",
    "    main_label = main_label.reshape((main_label.shape[0],1))\n",
    "    m = main_label.shape[0]\n",
    "    \n",
    "    # changing the labels to digits starting from 0\n",
    "    labels = np.zeros((m,1), dtype = \"int\")\n",
    "    num_class = int(0)\n",
    "    current_bus = main_label[0]\n",
    "    bus_reference = {str(num_class): current_bus} # dictionary containing original labels\n",
    "\n",
    "    for i in range(m):\n",
    "        if main_label[i] != current_bus:\n",
    "            num_class += int(1)\n",
    "            current_bus = main_label[i]\n",
    "            bus_reference[str(num_class)] = current_bus\n",
    "    \n",
    "        labels[i] = num_class\n",
    "    labels = labels.astype(int)\n",
    "    \n",
    "    main_file = \"features.csv\"\n",
    "    main_features = np.loadtxt(main_file, delimiter=\",\")\n",
    "    \n",
    "    DATA = {'labels': labels,\n",
    "            'main_features': main_features}\n",
    "    num_class+=1\n",
    "    \n",
    "    return DATA, bus_reference, num_class"
   ]
  },
  {
   "cell_type": "code",
   "execution_count": 95,
   "metadata": {},
   "outputs": [],
   "source": [
    "def select_features(selected_buses, DATA):\n",
    "    \n",
    "    # U can select what features to use for training\n",
    "    main_features = DATA['main_features']\n",
    "    m = len(selected_buses)\n",
    "    n = DATA['main_features'].shape[0]\n",
    "    features = main_features[:,selected_buses]\n",
    "    \n",
    "    return features"
   ]
  },
  {
   "cell_type": "code",
   "execution_count": 96,
   "metadata": {},
   "outputs": [],
   "source": [
    "def make_onehot(DATA, num_class):\n",
    "    \n",
    "    #Convert labels to onehot\n",
    "    one_hot = np.zeros((DATA['labels'].shape[0], num_class))\n",
    "    for i,j in enumerate(DATA['labels']):\n",
    "        one_hot[i,j]=1\n",
    "        \n",
    "    return one_hot"
   ]
  },
  {
   "cell_type": "code",
   "execution_count": 97,
   "metadata": {},
   "outputs": [],
   "source": [
    "def split_dataset(features, labels, test_percentage):\n",
    "    \n",
    "    #Split data to training/crossval/test sets\n",
    "    indices = np.random.permutation(features.shape[0])\n",
    "    num_test = int(features.shape[0]*test_percentage)\n",
    "    num_test2 = num_test // 2\n",
    "    crossval_index, test_index, train_index = indices[:num_test2], indices[num_test2:num_test], indices[num_test:]\n",
    "    \n",
    "    crossval_features, test_features, train_features = features[crossval_index,:], features[test_index,:], features[train_index,:]\n",
    "    crossval_labels, test_labels, train_labels = labels[crossval_index,:], labels[test_index,:], labels[train_index,:]\n",
    "    \n",
    "    dataset={'train_labels':       train_labels.reshape(train_labels.shape[0],),\n",
    "             'train_features':     train_features,\n",
    "             'test_labels':        test_labels.reshape(test_labels.shape[0],),\n",
    "             'test_features':      test_features,\n",
    "             'crossval_labels':    crossval_labels.reshape(crossval_labels.shape[0],),\n",
    "             'crossval_features':  crossval_features}\n",
    "    \n",
    "    return dataset"
   ]
  },
  {
   "cell_type": "code",
   "execution_count": 98,
   "metadata": {},
   "outputs": [],
   "source": [
    "DATA, bus_reference, num_class = load_data()\n",
    "\n",
    "selected_buses = [1, 2, 3, 11, 27, 29, 50, 57, 74, 89]\n",
    "features = select_features(selected_buses, DATA)\n",
    "\n",
    "labels = DATA['labels'] #make_onehot(DATA, num_class)\n",
    "\n",
    "dataset = split_dataset(features, labels, 0.2)"
   ]
  },
  {
   "cell_type": "code",
   "execution_count": 99,
   "metadata": {},
   "outputs": [
    {
     "name": "stdout",
     "output_type": "stream",
     "text": [
      "(10400, 10)\n",
      "(10400,)\n",
      "(1300, 10)\n",
      "(1300,)\n",
      "(1300, 10)\n",
      "(1300,)\n"
     ]
    }
   ],
   "source": [
    "train_labels      = dataset['train_labels']\n",
    "train_features    = dataset['train_features']\n",
    "test_labels       = dataset['test_labels']\n",
    "test_features     = dataset['test_features']\n",
    "crossval_labels   = dataset['crossval_labels']\n",
    "crossval_features = dataset['crossval_features']\n",
    "print(train_features.shape)\n",
    "print(train_labels.shape)\n",
    "print(test_features.shape)\n",
    "print(test_labels.shape)\n",
    "print(crossval_features.shape)\n",
    "print(crossval_labels.shape)"
   ]
  },
  {
   "cell_type": "code",
   "execution_count": 100,
   "metadata": {},
   "outputs": [
    {
     "name": "stdout",
     "output_type": "stream",
     "text": [
      "best accuracy: 1.000000\n",
      "C_best: 1022.493980\n",
      "gamma_best: 314.190660\n"
     ]
    }
   ],
   "source": [
    "arr1 = np.arange(0,9,0.33); arr2 = np.arange(-1,6,0.25)\n",
    "C = np.exp(arr1); gamma = np.exp(arr2);\n",
    "best_acc=0; \n",
    "\n",
    "for i in C:\n",
    "    for j in gamma:\n",
    "\n",
    "        svc_model = SVC(kernel='rbf', gamma=j, C=i).fit(crossval_features, crossval_labels)\n",
    "        acc = svc_model.score(crossval_features, crossval_labels)\n",
    "        if acc>best_acc:\n",
    "            best_acc = acc; C_best = i; gamma_best = j\n",
    "            \n",
    "print(\"best accuracy: %f\" %best_acc)\n",
    "print(\"C_best: %f\" %C_best)\n",
    "print(\"gamma_best: %f\" %gamma_best)"
   ]
  },
  {
   "cell_type": "code",
   "execution_count": 101,
   "metadata": {},
   "outputs": [
    {
     "name": "stdout",
     "output_type": "stream",
     "text": [
      "train accuracy: 1.000000\n",
      "test accuracy: 1.000000\n"
     ]
    }
   ],
   "source": [
    "svc_model = SVC(kernel='rbf', gamma=gamma_best, C=C_best).fit(train_features, train_labels)\n",
    "acc = svc_model.score(train_features, train_labels)\n",
    "print(\"train accuracy: %f\" %acc)\n",
    "\n",
    "svc_model = SVC(kernel='rbf', gamma=gamma_best, C=C_best).fit(test_features, test_labels)\n",
    "acc = svc_model.score(test_features, test_labels)\n",
    "print(\"test accuracy: %f\" %acc)"
   ]
  },
  {
   "cell_type": "code",
   "execution_count": null,
   "metadata": {},
   "outputs": [],
   "source": []
  }
 ],
 "metadata": {
  "kernelspec": {
   "display_name": "Python 3",
   "language": "python",
   "name": "python3"
  },
  "language_info": {
   "codemirror_mode": {
    "name": "ipython",
    "version": 3
   },
   "file_extension": ".py",
   "mimetype": "text/x-python",
   "name": "python",
   "nbconvert_exporter": "python",
   "pygments_lexer": "ipython3",
   "version": "3.7.3"
  }
 },
 "nbformat": 4,
 "nbformat_minor": 2
}
